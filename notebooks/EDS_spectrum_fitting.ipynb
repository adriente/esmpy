{
 "cells": [
  {
   "cell_type": "code",
   "execution_count": 1,
   "metadata": {},
   "outputs": [
    {
     "name": "stdout",
     "output_type": "stream",
     "text": [
      "\u001b[33;20mWARNING | Hyperspy | Numba is not installed, falling back to non-accelerated implementation. (hyperspy.decorators:256)\u001b[0m\n",
      "\u001b[33;20mWARNING | Hyperspy | Numba is not installed, falling back to non-accelerated implementation. (hyperspy.decorators:256)\u001b[0m\n",
      "\u001b[33;20mWARNING | Hyperspy | Numba is not installed, falling back to non-accelerated implementation. (hyperspy.decorators:256)\u001b[0m\n",
      "\u001b[33;20mWARNING | Hyperspy | Numba is not installed, falling back to non-accelerated implementation. (hyperspy.decorators:256)\u001b[0m\n",
      "\u001b[33;20mWARNING | Hyperspy | Numba is not installed, falling back to non-accelerated implementation. (hyperspy.decorators:256)\u001b[0m\n",
      "\u001b[33;20mWARNING | Hyperspy | Numba is not installed, falling back to non-accelerated implementation. (hyperspy.decorators:256)\u001b[0m\n",
      "\u001b[33;20mWARNING | Hyperspy | Numba is not installed, falling back to non-accelerated implementation. (hyperspy.decorators:256)\u001b[0m\n",
      "\u001b[33;20mWARNING | Hyperspy | Numba is not installed, falling back to non-accelerated implementation. (hyperspy.decorators:256)\u001b[0m\n",
      "\u001b[33;20mWARNING | Hyperspy | Numba is not installed, falling back to non-accelerated implementation. (hyperspy.decorators:256)\u001b[0m\n",
      "\u001b[33;20mWARNING | Hyperspy | Numba is not installed, falling back to non-accelerated implementation. (hyperspy.decorators:256)\u001b[0m\n"
     ]
    }
   ],
   "source": [
    "%matplotlib qt\n",
    "import hyperspy.api as hs\n",
    "from espm.estimators import SmoothNMF\n",
    "import numpy as np\n",
    "\n",
    "def expand_spectrum(spectrum) : \n",
    "    r\"\"\"\n",
    "    Expand the navigation dimension of a spectrum to enable hyperspy decomposition.\n",
    "    \"\"\"\n",
    "    a = np.tile(spectrum.data, (2, 1))\n",
    "    temp_spectrum = hs.signals.Signal1D(a)\n",
    "    temp_spectrum.set_signal_type('EDS_espm')\n",
    "    d = spectrum.metadata.as_dictionary()\n",
    "    temp_spectrum.metadata.add_dictionary(d)\n",
    "    dd= spectrum.axes_manager[0].get_axis_dictionary()\n",
    "    temp_spectrum.axes_manager.signal_axes[0].set(**dd)\n",
    "    temp_spectrum.model_ = spectrum.model\n",
    "    return temp_spectrum\n",
    "    "
   ]
  },
  {
   "cell_type": "markdown",
   "metadata": {},
   "source": [
    "# I. Loading the data\n",
    "\n",
    "### Notes\n",
    "\n",
    "- Depending on the origin of the data you may want to modify this notebook : \n",
    "    - For example if the data were acquired using Velox, when using `hs.load()`, the returned object is probably a list. Print that list and select the EDS data.\n",
    "- If you have 3D data (e.g. a spectrum image), you can still use this notebook. Do either of the following\n",
    "    - Sum over all the pixels of the dataset using `spectrum = spim.sum()` where spim is your 3D dataset\n",
    "    - Pick an area of the spectrum image and perform the analysis over the picked area. (see the last part of this notebook)"
   ]
  },
  {
   "cell_type": "code",
   "execution_count": 2,
   "metadata": {},
   "outputs": [],
   "source": [
    "# We crop the signal dimension since our model can't deal with energy scales containing 0eV.\n",
    "spectrum = hs.load().isig[0.1 : 20.0].sum()\n",
    "# The data are changed from ints to floats. The algorithm can only work with floats.\n",
    "spectrum.change_dtype('float64')\n",
    "# To apply the methods of this package we change to object to the package type\n",
    "spectrum.set_signal_type('EDS_espm')"
   ]
  },
  {
   "cell_type": "markdown",
   "metadata": {},
   "source": [
    "# II. Setting metadata\n",
    "\n",
    "It is very important to correctly fill the metadata. They are required for the model to work. Depending on your acquisition software, some fields are already filled, check the metadata first before completing what's missing. \n",
    "\n",
    "## Check your current metadata"
   ]
  },
  {
   "cell_type": "code",
   "execution_count": 3,
   "metadata": {},
   "outputs": [
    {
     "data": {
      "text/html": [
       "<ul style=\"margin: 0px; list-style-position: outside;\">\n",
       "                    <details open>\n",
       "                    <summary style=\"display: list-item;\">\n",
       "                    <li style=\"display: inline;\">\n",
       "                    Acquisition_instrument\n",
       "                    </li></summary>\n",
       "                    <ul style=\"margin: 0px; list-style-position: outside;\">\n",
       "                    <details closed>\n",
       "                    <summary style=\"display: list-item;\">\n",
       "                    <li style=\"display: inline;\">\n",
       "                    TEM\n",
       "                    </li></summary>\n",
       "                    <ul style=\"margin: 0px; list-style-position: outside;\">\n",
       "                    <details closed>\n",
       "                    <summary style=\"display: list-item;\">\n",
       "                    <li style=\"display: inline;\">\n",
       "                    Detector\n",
       "                    </li></summary>\n",
       "                    <ul style=\"margin: 0px; list-style-position: outside;\">\n",
       "                    <details closed>\n",
       "                    <summary style=\"display: list-item;\">\n",
       "                    <li style=\"display: inline;\">\n",
       "                    EDS\n",
       "                    </li></summary>\n",
       "                    \n",
       "    <ul style=\"margin: 0px; list-style-position: outside;\">\n",
       "    <li style='margin-left:1em; padding-left: 0.5em'>azimuth_angle = np.float64(0.0)</li></ul>\n",
       "    \n",
       "    <ul style=\"margin: 0px; list-style-position: outside;\">\n",
       "    <li style='margin-left:1em; padding-left: 0.5em'>elevation_angle = np.float64(35.0)</li></ul>\n",
       "    \n",
       "    <ul style=\"margin: 0px; list-style-position: outside;\">\n",
       "    <li style='margin-left:1em; padding-left: 0.5em'>energy_resolution_MnKa = np.float64(130.0)</li></ul>\n",
       "    \n",
       "    <ul style=\"margin: 0px; list-style-position: outside;\">\n",
       "    <li style='margin-left:1em; padding-left: 0.5em'>number_of_frames = np.int64(250)</li></ul>\n",
       "    \n",
       "    <ul style=\"margin: 0px; list-style-position: outside;\">\n",
       "    <li style='margin-left:1em; padding-left: 0.5em'>type = SDD_efficiency.txt</li></ul>\n",
       "    \n",
       "    <ul style=\"margin: 0px; list-style-position: outside;\">\n",
       "    <li style='margin-left:1em; padding-left: 0.5em'>width_intercept = 0.065</li></ul>\n",
       "    \n",
       "    <ul style=\"margin: 0px; list-style-position: outside;\">\n",
       "    <li style='margin-left:1em; padding-left: 0.5em'>width_slope = 0.01</li></ul>\n",
       "    </details></ul></details></ul><ul style=\"margin: 0px; list-style-position: outside;\">\n",
       "                    <details closed>\n",
       "                    <summary style=\"display: list-item;\">\n",
       "                    <li style=\"display: inline;\">\n",
       "                    Stage\n",
       "                    </li></summary>\n",
       "                    \n",
       "    <ul style=\"margin: 0px; list-style-position: outside;\">\n",
       "    <li style='margin-left:1em; padding-left: 0.5em'>tilt_alpha = np.float64(0.284)</li></ul>\n",
       "    \n",
       "    <ul style=\"margin: 0px; list-style-position: outside;\">\n",
       "    <li style='margin-left:1em; padding-left: 0.5em'>tilt_beta = np.float64(-0.44)</li></ul>\n",
       "    \n",
       "    <ul style=\"margin: 0px; list-style-position: outside;\">\n",
       "    <li style='margin-left:1em; padding-left: 0.5em'>x = np.float64(-0.000134)</li></ul>\n",
       "    \n",
       "    <ul style=\"margin: 0px; list-style-position: outside;\">\n",
       "    <li style='margin-left:1em; padding-left: 0.5em'>y = np.float64(1e-05)</li></ul>\n",
       "    \n",
       "    <ul style=\"margin: 0px; list-style-position: outside;\">\n",
       "    <li style='margin-left:1em; padding-left: 0.5em'>z = np.float64(-0.000163)</li></ul>\n",
       "    </details></ul>\n",
       "    <ul style=\"margin: 0px; list-style-position: outside;\">\n",
       "    <li style='margin-left:1em; padding-left: 0.5em'>beam_energy = np.float64(200.0)</li></ul>\n",
       "    \n",
       "    <ul style=\"margin: 0px; list-style-position: outside;\">\n",
       "    <li style='margin-left:1em; padding-left: 0.5em'>camera_length = np.float64(115.9)</li></ul>\n",
       "    \n",
       "    <ul style=\"margin: 0px; list-style-position: outside;\">\n",
       "    <li style='margin-left:1em; padding-left: 0.5em'>magnification = np.float64(7200000.0)</li></ul>\n",
       "    \n",
       "    <ul style=\"margin: 0px; list-style-position: outside;\">\n",
       "    <li style='margin-left:1em; padding-left: 0.5em'>microscope = Titan</li></ul>\n",
       "    </details></ul></details></ul><ul style=\"margin: 0px; list-style-position: outside;\">\n",
       "                    <details open>\n",
       "                    <summary style=\"display: list-item;\">\n",
       "                    <li style=\"display: inline;\">\n",
       "                    General\n",
       "                    </li></summary>\n",
       "                    <ul style=\"margin: 0px; list-style-position: outside;\">\n",
       "                    <details closed>\n",
       "                    <summary style=\"display: list-item;\">\n",
       "                    <li style=\"display: inline;\">\n",
       "                    FileIO\n",
       "                    </li></summary>\n",
       "                    <ul style=\"margin: 0px; list-style-position: outside;\">\n",
       "                    <details closed>\n",
       "                    <summary style=\"display: list-item;\">\n",
       "                    <li style=\"display: inline;\">\n",
       "                    0\n",
       "                    </li></summary>\n",
       "                    \n",
       "    <ul style=\"margin: 0px; list-style-position: outside;\">\n",
       "    <li style='margin-left:1em; padding-left: 0.5em'>hyperspy_version = 2.1.1</li></ul>\n",
       "    \n",
       "    <ul style=\"margin: 0px; list-style-position: outside;\">\n",
       "    <li style='margin-left:1em; padding-left: 0.5em'>io_plugin = rsciio.emd</li></ul>\n",
       "    \n",
       "    <ul style=\"margin: 0px; list-style-position: outside;\">\n",
       "    <li style='margin-left:1em; padding-left: 0.5em'>operation = load</li></ul>\n",
       "    \n",
       "    <ul style=\"margin: 0px; list-style-position: outside;\">\n",
       "    <li style='margin-left:1em; padding-left: 0.5em'>timestamp = 2024-11-18T16:38:16.357404+01:00</li></ul>\n",
       "    </details></ul><ul style=\"margin: 0px; list-style-position: outside;\">\n",
       "                    <details closed>\n",
       "                    <summary style=\"display: list-item;\">\n",
       "                    <li style=\"display: inline;\">\n",
       "                    1\n",
       "                    </li></summary>\n",
       "                    \n",
       "    <ul style=\"margin: 0px; list-style-position: outside;\">\n",
       "    <li style='margin-left:1em; padding-left: 0.5em'>hyperspy_version = 2.1.1</li></ul>\n",
       "    \n",
       "    <ul style=\"margin: 0px; list-style-position: outside;\">\n",
       "    <li style='margin-left:1em; padding-left: 0.5em'>io_plugin = rsciio.hspy</li></ul>\n",
       "    \n",
       "    <ul style=\"margin: 0px; list-style-position: outside;\">\n",
       "    <li style='margin-left:1em; padding-left: 0.5em'>operation = save</li></ul>\n",
       "    \n",
       "    <ul style=\"margin: 0px; list-style-position: outside;\">\n",
       "    <li style='margin-left:1em; padding-left: 0.5em'>timestamp = 2024-11-19T14:23:59.740064+01:00</li></ul>\n",
       "    </details></ul><ul style=\"margin: 0px; list-style-position: outside;\">\n",
       "                    <details closed>\n",
       "                    <summary style=\"display: list-item;\">\n",
       "                    <li style=\"display: inline;\">\n",
       "                    2\n",
       "                    </li></summary>\n",
       "                    \n",
       "    <ul style=\"margin: 0px; list-style-position: outside;\">\n",
       "    <li style='margin-left:1em; padding-left: 0.5em'>hyperspy_version = 2.2.0</li></ul>\n",
       "    \n",
       "    <ul style=\"margin: 0px; list-style-position: outside;\">\n",
       "    <li style='margin-left:1em; padding-left: 0.5em'>io_plugin = rsciio.hspy</li></ul>\n",
       "    \n",
       "    <ul style=\"margin: 0px; list-style-position: outside;\">\n",
       "    <li style='margin-left:1em; padding-left: 0.5em'>operation = load</li></ul>\n",
       "    \n",
       "    <ul style=\"margin: 0px; list-style-position: outside;\">\n",
       "    <li style='margin-left:1em; padding-left: 0.5em'>timestamp = 2025-02-02T19:37:27.186339+01:00</li></ul>\n",
       "    </details></ul></details></ul>\n",
       "    <ul style=\"margin: 0px; list-style-position: outside;\">\n",
       "    <li style='margin-left:1em; padding-left: 0.5em'>date = 2024-10-11</li></ul>\n",
       "    \n",
       "    <ul style=\"margin: 0px; list-style-position: outside;\">\n",
       "    <li style='margin-left:1em; padding-left: 0.5em'>original_filename = DSO.emd</li></ul>\n",
       "    \n",
       "    <ul style=\"margin: 0px; list-style-position: outside;\">\n",
       "    <li style='margin-left:1em; padding-left: 0.5em'>time = 11:00:13</li></ul>\n",
       "    \n",
       "    <ul style=\"margin: 0px; list-style-position: outside;\">\n",
       "    <li style='margin-left:1em; padding-left: 0.5em'>time_zone = CET</li></ul>\n",
       "    \n",
       "    <ul style=\"margin: 0px; list-style-position: outside;\">\n",
       "    <li style='margin-left:1em; padding-left: 0.5em'>title = EDS</li></ul>\n",
       "    </details></ul><ul style=\"margin: 0px; list-style-position: outside;\">\n",
       "                    <details open>\n",
       "                    <summary style=\"display: list-item;\">\n",
       "                    <li style=\"display: inline;\">\n",
       "                    Sample\n",
       "                    </li></summary>\n",
       "                    \n",
       "    <ul style=\"margin: 0px; list-style-position: outside;\">\n",
       "    <li style='margin-left:1em; padding-left: 0.5em'>elements = ['O', 'Cu', 'Sc', 'Dy']</li></ul>\n",
       "    </details></ul><ul style=\"margin: 0px; list-style-position: outside;\">\n",
       "                    <details open>\n",
       "                    <summary style=\"display: list-item;\">\n",
       "                    <li style=\"display: inline;\">\n",
       "                    Signal\n",
       "                    </li></summary>\n",
       "                    \n",
       "    <ul style=\"margin: 0px; list-style-position: outside;\">\n",
       "    <li style='margin-left:1em; padding-left: 0.5em'>signal_type = EDS_espm</li></ul>\n",
       "    </details></ul>\n",
       "    <ul style=\"margin: 0px; list-style-position: outside;\">\n",
       "    <li style='margin-left:1em; padding-left: 0.5em'>xray_db = 200keV_xrays.json</li></ul>\n",
       "    "
      ],
      "text/plain": [
       "├── Acquisition_instrument\n",
       "│   └── TEM\n",
       "│       ├── Detector\n",
       "│       │   └── EDS\n",
       "│       │       ├── azimuth_angle = np.float64(0.0)\n",
       "│       │       ├── elevation_angle = np.float64(35.0)\n",
       "│       │       ├── energy_resolution_MnKa = np.float64(130.0)\n",
       "│       │       ├── number_of_frames = np.int64(250)\n",
       "│       │       ├── type = SDD_efficiency.txt\n",
       "│       │       ├── width_intercept = 0.065\n",
       "│       │       └── width_slope = 0.01\n",
       "│       ├── Stage\n",
       "│       │   ├── tilt_alpha = np.float64(0.284)\n",
       "│       │   ├── tilt_beta = np.float64(-0.44)\n",
       "│       │   ├── x = np.float64(-0.000134)\n",
       "│       │   ├── y = np.float64(1e-05)\n",
       "│       │   └── z = np.float64(-0.000163)\n",
       "│       ├── beam_energy = np.float64(200.0)\n",
       "│       ├── camera_length = np.float64(115.9)\n",
       "│       ├── magnification = np.float64(7200000.0)\n",
       "│       └── microscope = Titan\n",
       "├── General\n",
       "│   ├── FileIO\n",
       "│   │   ├── 0\n",
       "│   │   │   ├── hyperspy_version = 2.1.1\n",
       "│   │   │   ├── io_plugin = rsciio.emd\n",
       "│   │   │   ├── operation = load\n",
       "│   │   │   └── timestamp = 2024-11-18T16:38:16.357404+01:00\n",
       "│   │   ├── 1\n",
       "│   │   │   ├── hyperspy_version = 2.1.1\n",
       "│   │   │   ├── io_plugin = rsciio.hspy\n",
       "│   │   │   ├── operation = save\n",
       "│   │   │   └── timestamp = 2024-11-19T14:23:59.740064+01:00\n",
       "│   │   └── 2\n",
       "│   │       ├── hyperspy_version = 2.2.0\n",
       "│   │       ├── io_plugin = rsciio.hspy\n",
       "│   │       ├── operation = load\n",
       "│   │       └── timestamp = 2025-02-02T19:37:27.186339+01:00\n",
       "│   ├── date = 2024-10-11\n",
       "│   ├── original_filename = DSO.emd\n",
       "│   ├── time = 11:00:13\n",
       "│   ├── time_zone = CET\n",
       "│   └── title = EDS\n",
       "├── Sample\n",
       "│   └── elements = ['O', 'Cu', 'Sc', 'Dy']\n",
       "├── Signal\n",
       "│   └── signal_type = EDS_espm\n",
       "└── xray_db = 200keV_xrays.json"
      ]
     },
     "execution_count": 3,
     "metadata": {},
     "output_type": "execute_result"
    }
   ],
   "source": [
    "spectrum.metadata"
   ]
  },
  {
   "cell_type": "markdown",
   "metadata": {},
   "source": [
    "## Required metadata\n",
    "\n",
    "### exspy metadata\n",
    "\n",
    "Check exspy for more documentation on these functions"
   ]
  },
  {
   "cell_type": "code",
   "execution_count": 4,
   "metadata": {},
   "outputs": [],
   "source": [
    "spectrum.set_microscope_parameters(elevation_angle=35.0,\n",
    "                                   azimuth_angle= 0.0,\n",
    "                                   tilt_stage= 0.0,\n",
    "                                   beam_energy = 200,\n",
    "                                   )\n",
    "spectrum.metadata.Acquisition_instrument.TEM.Stage.tilt_beta = 0.0\n",
    "spectrum.set_elements([ 'O', 'Sc', 'Dy'])\n"
   ]
  },
  {
   "cell_type": "markdown",
   "metadata": {},
   "source": [
    "### espm metadata\n",
    "\n",
    "- thickness : size of the sample along the beam direction in cm.\n",
    "- density : density of the sample in g.cm^-3\n",
    "- xray_db : X-ray cross-section database. Currently 3 energies are available : 100keV, 200keV and 300keV. Please reach for the devs or use emtables to generate different databases.\n",
    "- width slope & width intercept : \n",
    "    - The energy width of caracteristic X-rays vary with energy. Typically the reference is the width of the Mn-Ka line. In espm (for now), the change in width is modeled using a straight line (slope + intercept). If necessary, you can get your own values by measuring the width of a bunch of caracteristic X-ray peaks.\n",
    "- detector_type : It can be either a text file that contains energy vs detection efficiency from your constructor. There is one such curve available for espm : 'SDD_efficiency.txt'. Or you can build your own simplified detector model using espm. Please, contact the devs for help on that."
   ]
  },
  {
   "cell_type": "code",
   "execution_count": 5,
   "metadata": {},
   "outputs": [],
   "source": [
    "spectrum.set_analysis_parameters(thickness= 1e-5,\n",
    "                                 density = 3.5,\n",
    "                                 xray_db = '200keV_xrays.json',\n",
    "                                 width_slope = 0.01,\n",
    "                                 width_intercept = 0.065,\n",
    "                                 detector_type = 'SDD_efficiency.txt'\n",
    "                                 )"
   ]
  },
  {
   "cell_type": "markdown",
   "metadata": {},
   "source": [
    "# Optional metadata\n",
    "\n",
    "These fields are required to try the fit with the mass-thickness as an adjustable variable.\n",
    "\n",
    "- geom_eff : geometric efficiency of the detector in sr (i.e. solid angle covered by the detector.). "
   ]
  },
  {
   "cell_type": "code",
   "execution_count": 6,
   "metadata": {},
   "outputs": [],
   "source": [
    "spectrum.set_analysis_parameters(geom_eff=1.0)\n",
    "\n",
    "spectrum.set_microscope_parameters(real_time=100.0,\n",
    "                                   beam_current = 1)"
   ]
  },
  {
   "cell_type": "markdown",
   "metadata": {},
   "source": [
    "# Calibrate the spectrum\n",
    "\n",
    "If necessary you can adjust the energy scale of your dataset. Two windows will pop : one with the x-ray lines labels and the other one on which you can select a range for calibration.\n",
    "\n",
    "Please check exspy for additional documentation."
   ]
  },
  {
   "cell_type": "code",
   "execution_count": 6,
   "metadata": {},
   "outputs": [
    {
     "name": "stderr",
     "output_type": "stream",
     "text": [
      "findfont: Font family ['STIXGeneral'] not found. Falling back to DejaVu Sans.\n",
      "findfont: Font family ['STIXGeneral'] not found. Falling back to DejaVu Sans.\n",
      "findfont: Font family ['STIXGeneral'] not found. Falling back to DejaVu Sans.\n",
      "findfont: Font family ['STIXGeneral'] not found. Falling back to DejaVu Sans.\n",
      "findfont: Font family ['STIXNonUnicode'] not found. Falling back to DejaVu Sans.\n",
      "findfont: Font family ['STIXNonUnicode'] not found. Falling back to DejaVu Sans.\n",
      "findfont: Font family ['STIXNonUnicode'] not found. Falling back to DejaVu Sans.\n",
      "findfont: Font family ['STIXSizeOneSym'] not found. Falling back to DejaVu Sans.\n",
      "findfont: Font family ['STIXSizeTwoSym'] not found. Falling back to DejaVu Sans.\n",
      "findfont: Font family ['STIXSizeThreeSym'] not found. Falling back to DejaVu Sans.\n",
      "findfont: Font family ['STIXSizeFourSym'] not found. Falling back to DejaVu Sans.\n",
      "findfont: Font family ['STIXSizeFiveSym'] not found. Falling back to DejaVu Sans.\n",
      "findfont: Font family ['cmsy10'] not found. Falling back to DejaVu Sans.\n",
      "findfont: Font family ['cmr10'] not found. Falling back to DejaVu Sans.\n",
      "findfont: Font family ['cmtt10'] not found. Falling back to DejaVu Sans.\n",
      "findfont: Font family ['cmmi10'] not found. Falling back to DejaVu Sans.\n",
      "findfont: Font family ['cmb10'] not found. Falling back to DejaVu Sans.\n",
      "findfont: Font family ['cmss10'] not found. Falling back to DejaVu Sans.\n",
      "findfont: Font family ['cmex10'] not found. Falling back to DejaVu Sans.\n",
      "c:\\Users\\adteurtrie\\AppData\\Local\\anaconda3\\envs\\espm_test\\Lib\\site-packages\\jupyter_client\\session.py:721: UserWarning: Message serialization failed with:\n",
      "Out of range float values are not JSON compliant\n",
      "Supporting this message is deprecated in jupyter-client 7, please make sure your message is JSON-compliant\n",
      "  content = self.pack(content)\n"
     ]
    },
    {
     "data": {
      "application/vnd.jupyter.widget-view+json": {
       "model_id": "5f24342163174f0ba0fcd12250e03414",
       "version_major": 2,
       "version_minor": 0
      },
      "text/plain": [
       "VBox(children=(HBox(children=(FloatText(value=0.0, description='New left'), Label(value='keV', layout=Layout(w…"
      ]
     },
     "metadata": {},
     "output_type": "display_data"
    }
   ],
   "source": [
    "spectrum.plot(True)\n",
    "spectrum.calibrate()"
   ]
  },
  {
   "cell_type": "markdown",
   "metadata": {},
   "source": [
    "# Select background windows\n",
    "\n",
    "A plot of the spectrum will pop with several ROIs. You can click and drag the ROIs to select the range over which the bremsstrahlung will be calculated. Once you're done selecting the energy ranges, you can click on \"Apply\". You should see the bremsstrahlung model appear.\n",
    "\n",
    "Later ou you input directly the energy ranges to skip the selection gui."
   ]
  },
  {
   "cell_type": "code",
   "execution_count": null,
   "metadata": {},
   "outputs": [],
   "source": [
    "spectrum.select_background_windows(num_windows=5)"
   ]
  },
  {
   "cell_type": "markdown",
   "metadata": {},
   "source": [
    "# Build the EDXS model\n",
    "\n",
    "The `build_G` function has an important keyword argument : \"elements_dict\". It is structured as  : {element : cutoff}, e.g. `{Cu  : 3.0}`. It means that the fitting of lines of an element below the cutoff energy will be separated from the lines above the cutoff.\n",
    "The \"elements_dict\" can be useful in three ways : \n",
    "- Since Cu characteristic X-rays are often artefacts originating from the sample support, their absorption coefficient is very different from the studied sample. Thus separating K from L lines of Cu results in a better fit.\n",
    "- For some elements like the transition metals, the absorption coefficient may depend massively on the material composition and/or structure. The low energy lines, that are more sensitive to absorption effects may thus also be hard to fit and separating them will probably improve the fit. \n",
    "- For heavy elements, the cross-section of M or above lines may be wrong. Separating them from the rest will probably improve the fit."
   ]
  },
  {
   "cell_type": "code",
   "execution_count": 7,
   "metadata": {},
   "outputs": [],
   "source": [
    "spectrum.build_G(ignored_elements = ['Cu'],elements_dict={ 'Dy' : 3.0})"
   ]
  },
  {
   "cell_type": "code",
   "execution_count": 26,
   "metadata": {},
   "outputs": [],
   "source": [
    "fW = spectrum.set_fixed_W({'p0' : {'Dy' : 0.25, 'Sc' : 0.25}})"
   ]
  },
  {
   "cell_type": "markdown",
   "metadata": {},
   "source": [
    "# Initialise the NMF estimator\n",
    "\n",
    "The nmf algorithm below takes a few key arguments :\n",
    "- n_components : it has to be 1 when analysing a spectrum\n",
    "- max_iter : max number of iterations\n",
    "- tol : convergence criterion, the decomposition stops when it is reached\n",
    "- G : EDXS model used to compute NMF\n",
    "- hspy_comp : compatibility with hyperspy, it has to be True when using hyperspy objects."
   ]
  },
  {
   "cell_type": "code",
   "execution_count": 8,
   "metadata": {},
   "outputs": [
    {
     "name": "stderr",
     "output_type": "stream",
     "text": [
      "C:\\Users\\adteurtrie\\AppData\\Local\\Temp\\ipykernel_13476\\1262936053.py:16: DeprecationWarning: use \"HasTraits.trait_set\" instead\n",
      "  temp_spectrum.axes_manager.signal_axes[0].set(**dd)\n"
     ]
    }
   ],
   "source": [
    "tspectrum = expand_spectrum(spectrum)\n",
    "nmf = SmoothNMF(n_components=1, max_iter=1000, tol=1e-6, G = tspectrum.model, hspy_comp = True)"
   ]
  },
  {
   "cell_type": "markdown",
   "metadata": {},
   "source": [
    "# Run the decomposition"
   ]
  },
  {
   "cell_type": "code",
   "execution_count": 9,
   "metadata": {},
   "outputs": [
    {
     "name": "stderr",
     "output_type": "stream",
     "text": [
      "c:\\Users\\adteurtrie\\AppData\\Local\\anaconda3\\envs\\espm_test\\Lib\\site-packages\\sklearn\\base.py:474: FutureWarning: `BaseEstimator._validate_data` is deprecated in 1.6 and will be removed in 1.7. Use `sklearn.utils.validation.validate_data` instead. This function becomes public and is part of the scikit-learn developer API.\n",
      "  warnings.warn(\n"
     ]
    },
    {
     "ename": "IndexError",
     "evalue": "index 3 is out of bounds for axis 0 with size 3",
     "output_type": "error",
     "traceback": [
      "\u001b[1;31m---------------------------------------------------------------------------\u001b[0m",
      "\u001b[1;31mIndexError\u001b[0m                                Traceback (most recent call last)",
      "Cell \u001b[1;32mIn[9], line 1\u001b[0m\n\u001b[1;32m----> 1\u001b[0m \u001b[43mtspectrum\u001b[49m\u001b[38;5;241;43m.\u001b[39;49m\u001b[43mdecomposition\u001b[49m\u001b[43m(\u001b[49m\u001b[43malgorithm\u001b[49m\u001b[38;5;241;43m=\u001b[39;49m\u001b[43mnmf\u001b[49m\u001b[43m)\u001b[49m\n",
      "File \u001b[1;32m~\\travail\\vscodes\\espm\\espm\\datasets\\eds_spim.py:596\u001b[0m, in \u001b[0;36mEDSespm.decomposition\u001b[1;34m(self, normalize_poissonian_noise, navigation_mask, closing, *args, **kwargs)\u001b[0m\n\u001b[0;32m    483\u001b[0m \u001b[38;5;28;01mdef\u001b[39;00m\u001b[38;5;250m \u001b[39m\u001b[38;5;21mdecomposition\u001b[39m(\n\u001b[0;32m    484\u001b[0m     \u001b[38;5;28mself\u001b[39m,\n\u001b[0;32m    485\u001b[0m     normalize_poissonian_noise\u001b[38;5;241m=\u001b[39m\u001b[38;5;28;01mFalse\u001b[39;00m,\n\u001b[1;32m   (...)\u001b[0m\n\u001b[0;32m    489\u001b[0m     \u001b[38;5;241m*\u001b[39m\u001b[38;5;241m*\u001b[39mkwargs,\n\u001b[0;32m    490\u001b[0m ):\n\u001b[0;32m    491\u001b[0m \u001b[38;5;250m    \u001b[39m\u001b[38;5;124;03m\"\"\"Apply a decomposition to a dataset with a choice of algorithms.\u001b[39;00m\n\u001b[0;32m    492\u001b[0m \n\u001b[0;32m    493\u001b[0m \u001b[38;5;124;03m    The results are stored in ``self.learning_results``.\u001b[39;00m\n\u001b[1;32m   (...)\u001b[0m\n\u001b[0;32m    594\u001b[0m \u001b[38;5;124;03m       Interface Anal 36(3) (2004): 203-212.\u001b[39;00m\n\u001b[0;32m    595\u001b[0m \u001b[38;5;124;03m    \"\"\"\u001b[39;00m\n\u001b[1;32m--> 596\u001b[0m     \u001b[38;5;28;43msuper\u001b[39;49m\u001b[43m(\u001b[49m\u001b[43m)\u001b[49m\u001b[38;5;241;43m.\u001b[39;49m\u001b[43mdecomposition\u001b[49m\u001b[43m(\u001b[49m\n\u001b[0;32m    597\u001b[0m \u001b[43m        \u001b[49m\u001b[43mnormalize_poissonian_noise\u001b[49m\u001b[38;5;241;43m=\u001b[39;49m\u001b[43mnormalize_poissonian_noise\u001b[49m\u001b[43m,\u001b[49m\n\u001b[0;32m    598\u001b[0m \u001b[43m        \u001b[49m\u001b[43mnavigation_mask\u001b[49m\u001b[38;5;241;43m=\u001b[39;49m\u001b[43mnavigation_mask\u001b[49m\u001b[43m,\u001b[49m\n\u001b[0;32m    599\u001b[0m \u001b[43m        \u001b[49m\u001b[38;5;241;43m*\u001b[39;49m\u001b[43margs\u001b[49m\u001b[43m,\u001b[49m\n\u001b[0;32m    600\u001b[0m \u001b[43m        \u001b[49m\u001b[38;5;241;43m*\u001b[39;49m\u001b[38;5;241;43m*\u001b[39;49m\u001b[43mkwargs\u001b[49m\u001b[43m,\u001b[49m\n\u001b[0;32m    601\u001b[0m \u001b[43m    \u001b[49m\u001b[43m)\u001b[49m\n",
      "File \u001b[1;32mc:\\Users\\adteurtrie\\AppData\\Local\\anaconda3\\envs\\espm_test\\Lib\\site-packages\\exspy\\signals\\eds_tem.py:758\u001b[0m, in \u001b[0;36mEDSTEMSpectrum.decomposition\u001b[1;34m(self, normalize_poissonian_noise, navigation_mask, closing, *args, **kwargs)\u001b[0m\n\u001b[0;32m    756\u001b[0m \u001b[38;5;28;01mif\u001b[39;00m \u001b[38;5;28misinstance\u001b[39m(navigation_mask, \u001b[38;5;28mfloat\u001b[39m):\n\u001b[0;32m    757\u001b[0m     navigation_mask \u001b[38;5;241m=\u001b[39m \u001b[38;5;28mself\u001b[39m\u001b[38;5;241m.\u001b[39mvacuum_mask(navigation_mask, closing)\n\u001b[1;32m--> 758\u001b[0m \u001b[38;5;28;43msuper\u001b[39;49m\u001b[43m(\u001b[49m\u001b[43m)\u001b[49m\u001b[38;5;241;43m.\u001b[39;49m\u001b[43mdecomposition\u001b[49m\u001b[43m(\u001b[49m\n\u001b[0;32m    759\u001b[0m \u001b[43m    \u001b[49m\u001b[43mnormalize_poissonian_noise\u001b[49m\u001b[38;5;241;43m=\u001b[39;49m\u001b[43mnormalize_poissonian_noise\u001b[49m\u001b[43m,\u001b[49m\n\u001b[0;32m    760\u001b[0m \u001b[43m    \u001b[49m\u001b[43mnavigation_mask\u001b[49m\u001b[38;5;241;43m=\u001b[39;49m\u001b[43mnavigation_mask\u001b[49m\u001b[43m,\u001b[49m\n\u001b[0;32m    761\u001b[0m \u001b[43m    \u001b[49m\u001b[38;5;241;43m*\u001b[39;49m\u001b[43margs\u001b[49m\u001b[43m,\u001b[49m\n\u001b[0;32m    762\u001b[0m \u001b[43m    \u001b[49m\u001b[38;5;241;43m*\u001b[39;49m\u001b[38;5;241;43m*\u001b[39;49m\u001b[43mkwargs\u001b[49m\u001b[43m,\u001b[49m\n\u001b[0;32m    763\u001b[0m \u001b[43m\u001b[49m\u001b[43m)\u001b[49m\n\u001b[0;32m    764\u001b[0m \u001b[38;5;28mself\u001b[39m\u001b[38;5;241m.\u001b[39mlearning_results\u001b[38;5;241m.\u001b[39mloadings \u001b[38;5;241m=\u001b[39m np\u001b[38;5;241m.\u001b[39mnan_to_num(\u001b[38;5;28mself\u001b[39m\u001b[38;5;241m.\u001b[39mlearning_results\u001b[38;5;241m.\u001b[39mloadings)\n",
      "File \u001b[1;32mc:\\Users\\adteurtrie\\AppData\\Local\\anaconda3\\envs\\espm_test\\Lib\\site-packages\\hyperspy\\learn\\mva.py:507\u001b[0m, in \u001b[0;36mMVA.decomposition\u001b[1;34m(self, normalize_poissonian_noise, algorithm, output_dimension, centre, auto_transpose, navigation_mask, signal_mask, var_array, var_func, reproject, return_info, print_info, svd_solver, copy, **kwargs)\u001b[0m\n\u001b[0;32m    505\u001b[0m \u001b[38;5;28;01melif\u001b[39;00m is_sklearn_like:\n\u001b[0;32m    506\u001b[0m     \u001b[38;5;28;01mif\u001b[39;00m \u001b[38;5;28mhasattr\u001b[39m(estim, \u001b[38;5;124m\"\u001b[39m\u001b[38;5;124mfit_transform\u001b[39m\u001b[38;5;124m\"\u001b[39m):\n\u001b[1;32m--> 507\u001b[0m         loadings \u001b[38;5;241m=\u001b[39m \u001b[43mestim\u001b[49m\u001b[38;5;241;43m.\u001b[39;49m\u001b[43mfit_transform\u001b[49m\u001b[43m(\u001b[49m\u001b[43mdata_\u001b[49m\u001b[43m)\u001b[49m\n\u001b[0;32m    508\u001b[0m     \u001b[38;5;28;01melif\u001b[39;00m \u001b[38;5;28mhasattr\u001b[39m(estim, \u001b[38;5;124m\"\u001b[39m\u001b[38;5;124mfit\u001b[39m\u001b[38;5;124m\"\u001b[39m) \u001b[38;5;129;01mand\u001b[39;00m \u001b[38;5;28mhasattr\u001b[39m(estim, \u001b[38;5;124m\"\u001b[39m\u001b[38;5;124mtransform\u001b[39m\u001b[38;5;124m\"\u001b[39m):\n\u001b[0;32m    509\u001b[0m         estim\u001b[38;5;241m.\u001b[39mfit(data_)\n",
      "File \u001b[1;32mc:\\Users\\adteurtrie\\AppData\\Local\\anaconda3\\envs\\espm_test\\Lib\\site-packages\\sklearn\\utils\\_set_output.py:319\u001b[0m, in \u001b[0;36m_wrap_method_output.<locals>.wrapped\u001b[1;34m(self, X, *args, **kwargs)\u001b[0m\n\u001b[0;32m    317\u001b[0m \u001b[38;5;129m@wraps\u001b[39m(f)\n\u001b[0;32m    318\u001b[0m \u001b[38;5;28;01mdef\u001b[39;00m\u001b[38;5;250m \u001b[39m\u001b[38;5;21mwrapped\u001b[39m(\u001b[38;5;28mself\u001b[39m, X, \u001b[38;5;241m*\u001b[39margs, \u001b[38;5;241m*\u001b[39m\u001b[38;5;241m*\u001b[39mkwargs):\n\u001b[1;32m--> 319\u001b[0m     data_to_wrap \u001b[38;5;241m=\u001b[39m \u001b[43mf\u001b[49m\u001b[43m(\u001b[49m\u001b[38;5;28;43mself\u001b[39;49m\u001b[43m,\u001b[49m\u001b[43m \u001b[49m\u001b[43mX\u001b[49m\u001b[43m,\u001b[49m\u001b[43m \u001b[49m\u001b[38;5;241;43m*\u001b[39;49m\u001b[43margs\u001b[49m\u001b[43m,\u001b[49m\u001b[43m \u001b[49m\u001b[38;5;241;43m*\u001b[39;49m\u001b[38;5;241;43m*\u001b[39;49m\u001b[43mkwargs\u001b[49m\u001b[43m)\u001b[49m\n\u001b[0;32m    320\u001b[0m     \u001b[38;5;28;01mif\u001b[39;00m \u001b[38;5;28misinstance\u001b[39m(data_to_wrap, \u001b[38;5;28mtuple\u001b[39m):\n\u001b[0;32m    321\u001b[0m         \u001b[38;5;66;03m# only wrap the first output for cross decomposition\u001b[39;00m\n\u001b[0;32m    322\u001b[0m         return_tuple \u001b[38;5;241m=\u001b[39m (\n\u001b[0;32m    323\u001b[0m             _wrap_data_with_container(method, data_to_wrap[\u001b[38;5;241m0\u001b[39m], X, \u001b[38;5;28mself\u001b[39m),\n\u001b[0;32m    324\u001b[0m             \u001b[38;5;241m*\u001b[39mdata_to_wrap[\u001b[38;5;241m1\u001b[39m:],\n\u001b[0;32m    325\u001b[0m         )\n",
      "File \u001b[1;32m~\\travail\\vscodes\\espm\\espm\\estimators\\smooth_nmf.py:155\u001b[0m, in \u001b[0;36mSmoothNMF.fit_transform\u001b[1;34m(self, X, y, W, H)\u001b[0m\n\u001b[0;32m    139\u001b[0m \u001b[38;5;66;03m# To be remove in future versions. In this commented version below, G_ is called before intialisation which obviously causes issues.\u001b[39;00m\n\u001b[0;32m    140\u001b[0m \u001b[38;5;66;03m# I'll move it to the _iteration method. Adrien\u001b[39;00m\n\u001b[0;32m    141\u001b[0m \n\u001b[1;32m   (...)\u001b[0m\n\u001b[0;32m    150\u001b[0m \u001b[38;5;66;03m# else:\u001b[39;00m\n\u001b[0;32m    151\u001b[0m \u001b[38;5;66;03m#     self.gamma_ = deepcopy(self.gamma)\u001b[39;00m\n\u001b[0;32m    153\u001b[0m \u001b[38;5;28mself\u001b[39m\u001b[38;5;241m.\u001b[39mgamma_ \u001b[38;5;241m=\u001b[39m \u001b[38;5;28;01mNone\u001b[39;00m\n\u001b[1;32m--> 155\u001b[0m \u001b[38;5;28;01mreturn\u001b[39;00m \u001b[38;5;28;43msuper\u001b[39;49m\u001b[43m(\u001b[49m\u001b[43m)\u001b[49m\u001b[38;5;241;43m.\u001b[39;49m\u001b[43mfit_transform\u001b[49m\u001b[43m(\u001b[49m\u001b[43mX\u001b[49m\u001b[43m,\u001b[49m\u001b[43m \u001b[49m\u001b[43my\u001b[49m\u001b[38;5;241;43m=\u001b[39;49m\u001b[43my\u001b[49m\u001b[43m,\u001b[49m\u001b[43m \u001b[49m\u001b[43mW\u001b[49m\u001b[38;5;241;43m=\u001b[39;49m\u001b[43mW\u001b[49m\u001b[43m,\u001b[49m\u001b[43m \u001b[49m\u001b[43mH\u001b[49m\u001b[38;5;241;43m=\u001b[39;49m\u001b[43mH\u001b[49m\u001b[43m)\u001b[49m\n",
      "File \u001b[1;32mc:\\Users\\adteurtrie\\AppData\\Local\\anaconda3\\envs\\espm_test\\Lib\\site-packages\\sklearn\\utils\\_set_output.py:319\u001b[0m, in \u001b[0;36m_wrap_method_output.<locals>.wrapped\u001b[1;34m(self, X, *args, **kwargs)\u001b[0m\n\u001b[0;32m    317\u001b[0m \u001b[38;5;129m@wraps\u001b[39m(f)\n\u001b[0;32m    318\u001b[0m \u001b[38;5;28;01mdef\u001b[39;00m\u001b[38;5;250m \u001b[39m\u001b[38;5;21mwrapped\u001b[39m(\u001b[38;5;28mself\u001b[39m, X, \u001b[38;5;241m*\u001b[39margs, \u001b[38;5;241m*\u001b[39m\u001b[38;5;241m*\u001b[39mkwargs):\n\u001b[1;32m--> 319\u001b[0m     data_to_wrap \u001b[38;5;241m=\u001b[39m \u001b[43mf\u001b[49m\u001b[43m(\u001b[49m\u001b[38;5;28;43mself\u001b[39;49m\u001b[43m,\u001b[49m\u001b[43m \u001b[49m\u001b[43mX\u001b[49m\u001b[43m,\u001b[49m\u001b[43m \u001b[49m\u001b[38;5;241;43m*\u001b[39;49m\u001b[43margs\u001b[49m\u001b[43m,\u001b[49m\u001b[43m \u001b[49m\u001b[38;5;241;43m*\u001b[39;49m\u001b[38;5;241;43m*\u001b[39;49m\u001b[43mkwargs\u001b[49m\u001b[43m)\u001b[49m\n\u001b[0;32m    320\u001b[0m     \u001b[38;5;28;01mif\u001b[39;00m \u001b[38;5;28misinstance\u001b[39m(data_to_wrap, \u001b[38;5;28mtuple\u001b[39m):\n\u001b[0;32m    321\u001b[0m         \u001b[38;5;66;03m# only wrap the first output for cross decomposition\u001b[39;00m\n\u001b[0;32m    322\u001b[0m         return_tuple \u001b[38;5;241m=\u001b[39m (\n\u001b[0;32m    323\u001b[0m             _wrap_data_with_container(method, data_to_wrap[\u001b[38;5;241m0\u001b[39m], X, \u001b[38;5;28mself\u001b[39m),\n\u001b[0;32m    324\u001b[0m             \u001b[38;5;241m*\u001b[39mdata_to_wrap[\u001b[38;5;241m1\u001b[39m:],\n\u001b[0;32m    325\u001b[0m         )\n",
      "File \u001b[1;32m~\\travail\\vscodes\\espm\\espm\\estimators\\base.py:382\u001b[0m, in \u001b[0;36mNMFEstimator.fit_transform\u001b[1;34m(self, X, y, W, H)\u001b[0m\n\u001b[0;32m    379\u001b[0m \u001b[38;5;66;03m# Update G might increase the loss so we reevaluate the loss to avoid artificial negative decrease\u001b[39;00m\n\u001b[0;32m    380\u001b[0m \u001b[38;5;66;03m# We do this update every 3 iterations, but it is arbitrary.\u001b[39;00m\n\u001b[0;32m    381\u001b[0m \u001b[38;5;28;01mif\u001b[39;00m \u001b[38;5;28mself\u001b[39m\u001b[38;5;241m.\u001b[39mphysics_model_ \u001b[38;5;241m!=\u001b[39m \u001b[38;5;28;01mNone\u001b[39;00m \u001b[38;5;129;01mand\u001b[39;00m \u001b[38;5;28mself\u001b[39m\u001b[38;5;241m.\u001b[39mn_iter_\u001b[38;5;241m%\u001b[39m\u001b[38;5;241m3\u001b[39m \u001b[38;5;241m==\u001b[39m \u001b[38;5;241m0\u001b[39m: \n\u001b[1;32m--> 382\u001b[0m     \u001b[38;5;28mself\u001b[39m\u001b[38;5;241m.\u001b[39mG_ \u001b[38;5;241m=\u001b[39m \u001b[38;5;28;43mself\u001b[39;49m\u001b[38;5;241;43m.\u001b[39;49m\u001b[43mphysics_model_\u001b[49m\u001b[38;5;241;43m.\u001b[39;49m\u001b[43mNMF_update\u001b[49m\u001b[43m(\u001b[49m\u001b[38;5;28;43mself\u001b[39;49m\u001b[38;5;241;43m.\u001b[39;49m\u001b[43mW_\u001b[49m\u001b[43m)\u001b[49m\n\u001b[0;32m    383\u001b[0m     eval_before \u001b[38;5;241m=\u001b[39m \u001b[38;5;28mself\u001b[39m\u001b[38;5;241m.\u001b[39mloss(\u001b[38;5;28mself\u001b[39m\u001b[38;5;241m.\u001b[39mW_, \u001b[38;5;28mself\u001b[39m\u001b[38;5;241m.\u001b[39mH_)\n\u001b[0;32m    384\u001b[0m \u001b[38;5;28;01melse\u001b[39;00m :\n",
      "File \u001b[1;32m~\\travail\\vscodes\\espm\\espm\\models\\edxs.py:480\u001b[0m, in \u001b[0;36mEDXS.NMF_update\u001b[1;34m(self, W)\u001b[0m\n\u001b[0;32m    478\u001b[0m     \u001b[38;5;28;01mreturn\u001b[39;00m \u001b[38;5;28mself\u001b[39m\u001b[38;5;241m.\u001b[39mG\n\u001b[0;32m    479\u001b[0m \u001b[38;5;28;01melse\u001b[39;00m :\n\u001b[1;32m--> 480\u001b[0m     new_brstlg \u001b[38;5;241m=\u001b[39m \u001b[38;5;28;43mself\u001b[39;49m\u001b[38;5;241;43m.\u001b[39;49m\u001b[43mupdate_bremsstrahlung\u001b[49m\u001b[43m(\u001b[49m\u001b[43mW\u001b[49m\u001b[43m)\u001b[49m\n\u001b[0;32m    481\u001b[0m     new_G \u001b[38;5;241m=\u001b[39m \u001b[38;5;28mself\u001b[39m\u001b[38;5;241m.\u001b[39mG\u001b[38;5;241m.\u001b[39mcopy()\n\u001b[0;32m    482\u001b[0m     new_G[:,\u001b[38;5;241m-\u001b[39m\u001b[38;5;241m2\u001b[39m:] \u001b[38;5;241m=\u001b[39m new_brstlg\u001b[38;5;241m/\u001b[39m\u001b[38;5;28mself\u001b[39m\u001b[38;5;241m.\u001b[39mnorm[\u001b[38;5;241m0\u001b[39m][\u001b[38;5;241m-\u001b[39m\u001b[38;5;241m2\u001b[39m:]\n",
      "File \u001b[1;32m~\\travail\\vscodes\\espm\\espm\\models\\edxs.py:496\u001b[0m, in \u001b[0;36mEDXS.update_bremsstrahlung\u001b[1;34m(self, W)\u001b[0m\n\u001b[0;32m    494\u001b[0m mean_compo \u001b[38;5;241m=\u001b[39m np\u001b[38;5;241m.\u001b[39mmean(W[indices,:],axis\u001b[38;5;241m=\u001b[39m\u001b[38;5;241m1\u001b[39m)\n\u001b[0;32m    495\u001b[0m normed_compo \u001b[38;5;241m=\u001b[39m mean_compo\u001b[38;5;241m/\u001b[39mnp\u001b[38;5;241m.\u001b[39msum(mean_compo)\n\u001b[1;32m--> 496\u001b[0m elements_dict \u001b[38;5;241m=\u001b[39m \u001b[43m{\u001b[49m\u001b[43mkey\u001b[49m\u001b[43m \u001b[49m\u001b[43m:\u001b[49m\u001b[43m \u001b[49m\u001b[43mnormed_compo\u001b[49m\u001b[43m[\u001b[49m\u001b[43mi\u001b[49m\u001b[43m]\u001b[49m\u001b[43m \u001b[49m\u001b[38;5;28;43;01mfor\u001b[39;49;00m\u001b[43m \u001b[49m\u001b[43mi\u001b[49m\u001b[43m,\u001b[49m\u001b[43mkey\u001b[49m\u001b[43m \u001b[49m\u001b[38;5;129;43;01min\u001b[39;49;00m\u001b[43m \u001b[49m\u001b[38;5;28;43menumerate\u001b[39;49m\u001b[43m(\u001b[49m\u001b[38;5;28;43mself\u001b[39;49m\u001b[38;5;241;43m.\u001b[39;49m\u001b[43mget_elements\u001b[49m\u001b[43m(\u001b[49m\u001b[38;5;28;43;01mFalse\u001b[39;49;00m\u001b[43m)\u001b[49m\u001b[43m)\u001b[49m\u001b[43m}\u001b[49m\n\u001b[0;32m    497\u001b[0m bremsstrahlung \u001b[38;5;241m=\u001b[39m G_bremsstrahlung(\u001b[38;5;28mself\u001b[39m\u001b[38;5;241m.\u001b[39mx,\u001b[38;5;28mself\u001b[39m\u001b[38;5;241m.\u001b[39mE0,\u001b[38;5;28mself\u001b[39m\u001b[38;5;241m.\u001b[39mparams_dict,elements_dict\u001b[38;5;241m=\u001b[39melements_dict)\n\u001b[0;32m    498\u001b[0m \u001b[38;5;28;01mreturn\u001b[39;00m bremsstrahlung\n",
      "File \u001b[1;32m~\\travail\\vscodes\\espm\\espm\\models\\edxs.py:496\u001b[0m, in \u001b[0;36m<dictcomp>\u001b[1;34m(.0)\u001b[0m\n\u001b[0;32m    494\u001b[0m mean_compo \u001b[38;5;241m=\u001b[39m np\u001b[38;5;241m.\u001b[39mmean(W[indices,:],axis\u001b[38;5;241m=\u001b[39m\u001b[38;5;241m1\u001b[39m)\n\u001b[0;32m    495\u001b[0m normed_compo \u001b[38;5;241m=\u001b[39m mean_compo\u001b[38;5;241m/\u001b[39mnp\u001b[38;5;241m.\u001b[39msum(mean_compo)\n\u001b[1;32m--> 496\u001b[0m elements_dict \u001b[38;5;241m=\u001b[39m {key : \u001b[43mnormed_compo\u001b[49m\u001b[43m[\u001b[49m\u001b[43mi\u001b[49m\u001b[43m]\u001b[49m \u001b[38;5;28;01mfor\u001b[39;00m i,key \u001b[38;5;129;01min\u001b[39;00m \u001b[38;5;28menumerate\u001b[39m(\u001b[38;5;28mself\u001b[39m\u001b[38;5;241m.\u001b[39mget_elements(\u001b[38;5;28;01mFalse\u001b[39;00m))}\n\u001b[0;32m    497\u001b[0m bremsstrahlung \u001b[38;5;241m=\u001b[39m G_bremsstrahlung(\u001b[38;5;28mself\u001b[39m\u001b[38;5;241m.\u001b[39mx,\u001b[38;5;28mself\u001b[39m\u001b[38;5;241m.\u001b[39mE0,\u001b[38;5;28mself\u001b[39m\u001b[38;5;241m.\u001b[39mparams_dict,elements_dict\u001b[38;5;241m=\u001b[39melements_dict)\n\u001b[0;32m    498\u001b[0m \u001b[38;5;28;01mreturn\u001b[39;00m bremsstrahlung\n",
      "\u001b[1;31mIndexError\u001b[0m: index 3 is out of bounds for axis 0 with size 3"
     ]
    }
   ],
   "source": [
    "tspectrum.decomposition(algorithm=nmf)"
   ]
  },
  {
   "cell_type": "code",
   "execution_count": 4,
   "metadata": {},
   "outputs": [
    {
     "ename": "ValueError",
     "evalue": "Input has to be either atomic number, either chemical symbols",
     "output_type": "error",
     "traceback": [
      "\u001b[1;31m---------------------------------------------------------------------------\u001b[0m",
      "\u001b[1;31mValueError\u001b[0m                                Traceback (most recent call last)",
      "Cell \u001b[1;32mIn[4], line 1\u001b[0m\n\u001b[1;32m----> 1\u001b[0m \u001b[43mtspectrum\u001b[49m\u001b[38;5;241;43m.\u001b[39;49m\u001b[43mprint_concentration_report\u001b[49m\u001b[43m(\u001b[49m\u001b[43m)\u001b[49m\n",
      "File \u001b[1;32m~\\travail\\vscodes\\espm\\espm\\datasets\\eds_spim.py:727\u001b[0m, in \u001b[0;36mEDSespm.print_concentration_report\u001b[1;34m(self, selected_elts, W_input, fit_error, disclaimer)\u001b[0m\n\u001b[0;32m    701\u001b[0m \u001b[38;5;28;01mdef\u001b[39;00m\u001b[38;5;250m \u001b[39m\u001b[38;5;21mprint_concentration_report\u001b[39m (\u001b[38;5;28mself\u001b[39m, selected_elts \u001b[38;5;241m=\u001b[39m [], W_input \u001b[38;5;241m=\u001b[39m \u001b[38;5;28;01mNone\u001b[39;00m, fit_error \u001b[38;5;241m=\u001b[39m \u001b[38;5;28;01mTrue\u001b[39;00m, disclaimer \u001b[38;5;241m=\u001b[39m \u001b[38;5;28;01mTrue\u001b[39;00m) : \n\u001b[0;32m    702\u001b[0m \u001b[38;5;250m    \u001b[39m\u001b[38;5;124mr\u001b[39m\u001b[38;5;124;03m\"\"\"\u001b[39;00m\n\u001b[0;32m    703\u001b[0m \u001b[38;5;124;03m    Print a report of the chemical concentrations from a fitted W.\u001b[39;00m\n\u001b[0;32m    704\u001b[0m \n\u001b[1;32m   (...)\u001b[0m\n\u001b[0;32m    725\u001b[0m \u001b[38;5;124;03m    - This function is only available if the learning results contain a decomposition algorithm that has been fitted.\u001b[39;00m\n\u001b[0;32m    726\u001b[0m \u001b[38;5;124;03m    \"\"\"\u001b[39;00m\n\u001b[1;32m--> 727\u001b[0m     conv_elts, W, errors \u001b[38;5;241m=\u001b[39m \u001b[38;5;28;43mself\u001b[39;49m\u001b[38;5;241;43m.\u001b[39;49m\u001b[43mconcentration_report\u001b[49m\u001b[43m(\u001b[49m\u001b[43mselected_elts\u001b[49m\u001b[43m \u001b[49m\u001b[38;5;241;43m=\u001b[39;49m\u001b[43m \u001b[49m\u001b[43mselected_elts\u001b[49m\u001b[43m,\u001b[49m\u001b[43m \u001b[49m\u001b[43mW_input\u001b[49m\u001b[43m \u001b[49m\u001b[38;5;241;43m=\u001b[39;49m\u001b[43m \u001b[49m\u001b[43mW_input\u001b[49m\u001b[43m,\u001b[49m\u001b[43m \u001b[49m\u001b[43mfit_error\u001b[49m\u001b[43m \u001b[49m\u001b[38;5;241;43m=\u001b[39;49m\u001b[43m \u001b[49m\u001b[43mfit_error\u001b[49m\u001b[43m)\u001b[49m\n\u001b[0;32m    729\u001b[0m     table \u001b[38;5;241m=\u001b[39m PrettyTable()\n\u001b[0;32m    730\u001b[0m     field_list \u001b[38;5;241m=\u001b[39m [\u001b[38;5;124m\"\u001b[39m\u001b[38;5;124mElements\u001b[39m\u001b[38;5;124m\"\u001b[39m]\n",
      "File \u001b[1;32m~\\travail\\vscodes\\espm\\espm\\datasets\\eds_spim.py:689\u001b[0m, in \u001b[0;36mEDSespm.concentration_report\u001b[1;34m(self, selected_elts, W_input, fit_error)\u001b[0m\n\u001b[0;32m    686\u001b[0m                 elts_only\u001b[38;5;241m.\u001b[39mappend(elt)\n\u001b[0;32m    687\u001b[0m                 indices\u001b[38;5;241m.\u001b[39mappend(i)\n\u001b[1;32m--> 689\u001b[0m conv_elts \u001b[38;5;241m=\u001b[39m \u001b[43mconvert_elts\u001b[49m\u001b[43m(\u001b[49m\u001b[43melements\u001b[49m\u001b[43m \u001b[49m\u001b[38;5;241;43m=\u001b[39;49m\u001b[43m \u001b[49m\u001b[43melts_only\u001b[49m\u001b[43m)\u001b[49m\n\u001b[0;32m    690\u001b[0m norm \u001b[38;5;241m=\u001b[39m \u001b[38;5;28mself\u001b[39m\u001b[38;5;241m.\u001b[39mmetadata\u001b[38;5;241m.\u001b[39mEDS_model\u001b[38;5;241m.\u001b[39mnorm[:,indices]\n\u001b[0;32m    692\u001b[0m W \u001b[38;5;241m=\u001b[39m W[indices,:]\u001b[38;5;241m*\u001b[39m\u001b[38;5;241m100\u001b[39m \u001b[38;5;66;03m# /W[indices,:].sum(axis = 0)\u001b[39;00m\n",
      "File \u001b[1;32m~\\travail\\vscodes\\espm\\espm\\utils.py:209\u001b[0m, in \u001b[0;36mnumber_to_symbol_list.<locals>.inner\u001b[1;34m(*args, **kwargs)\u001b[0m\n\u001b[0;32m    207\u001b[0m         new_list\u001b[38;5;241m.\u001b[39mappend(key)\n\u001b[0;32m    208\u001b[0m     \u001b[38;5;28;01melse\u001b[39;00m : \n\u001b[1;32m--> 209\u001b[0m         \u001b[38;5;28;01mraise\u001b[39;00m \u001b[38;5;167;01mValueError\u001b[39;00m(\u001b[38;5;124m\"\u001b[39m\u001b[38;5;124mInput has to be either atomic number, either chemical symbols\u001b[39m\u001b[38;5;124m\"\u001b[39m)\n\u001b[0;32m    211\u001b[0m kwargs[\u001b[38;5;124m\"\u001b[39m\u001b[38;5;124melements\u001b[39m\u001b[38;5;124m\"\u001b[39m] \u001b[38;5;241m=\u001b[39m new_list\n\u001b[0;32m    212\u001b[0m \u001b[38;5;28;01mreturn\u001b[39;00m func(\u001b[38;5;241m*\u001b[39margs,\u001b[38;5;241m*\u001b[39m\u001b[38;5;241m*\u001b[39mkwargs)\n",
      "\u001b[1;31mValueError\u001b[0m: Input has to be either atomic number, either chemical symbols"
     ]
    }
   ],
   "source": [
    "tspectrum.print_concentration_report()"
   ]
  },
  {
   "cell_type": "code",
   "execution_count": null,
   "metadata": {},
   "outputs": [],
   "source": []
  },
  {
   "cell_type": "code",
   "execution_count": 3,
   "metadata": {},
   "outputs": [
    {
     "name": "stderr",
     "output_type": "stream",
     "text": [
      "findfont: Font family ['STIXGeneral'] not found. Falling back to DejaVu Sans.\n",
      "findfont: Font family ['STIXGeneral'] not found. Falling back to DejaVu Sans.\n",
      "findfont: Font family ['STIXGeneral'] not found. Falling back to DejaVu Sans.\n",
      "findfont: Font family ['STIXGeneral'] not found. Falling back to DejaVu Sans.\n",
      "findfont: Font family ['STIXNonUnicode'] not found. Falling back to DejaVu Sans.\n",
      "findfont: Font family ['STIXNonUnicode'] not found. Falling back to DejaVu Sans.\n",
      "findfont: Font family ['STIXNonUnicode'] not found. Falling back to DejaVu Sans.\n",
      "findfont: Font family ['STIXSizeOneSym'] not found. Falling back to DejaVu Sans.\n",
      "findfont: Font family ['STIXSizeTwoSym'] not found. Falling back to DejaVu Sans.\n",
      "findfont: Font family ['STIXSizeThreeSym'] not found. Falling back to DejaVu Sans.\n",
      "findfont: Font family ['STIXSizeFourSym'] not found. Falling back to DejaVu Sans.\n",
      "findfont: Font family ['STIXSizeFiveSym'] not found. Falling back to DejaVu Sans.\n",
      "findfont: Font family ['cmsy10'] not found. Falling back to DejaVu Sans.\n",
      "findfont: Font family ['cmr10'] not found. Falling back to DejaVu Sans.\n",
      "findfont: Font family ['cmtt10'] not found. Falling back to DejaVu Sans.\n",
      "findfont: Font family ['cmmi10'] not found. Falling back to DejaVu Sans.\n",
      "findfont: Font family ['cmb10'] not found. Falling back to DejaVu Sans.\n",
      "findfont: Font family ['cmss10'] not found. Falling back to DejaVu Sans.\n",
      "findfont: Font family ['cmex10'] not found. Falling back to DejaVu Sans.\n"
     ]
    }
   ],
   "source": [
    "tspectrum.plot_1D_results(elements=['O', 'Sc', 'Dy'])"
   ]
  },
  {
   "cell_type": "code",
   "execution_count": null,
   "metadata": {},
   "outputs": [],
   "source": []
  }
 ],
 "metadata": {
  "kernelspec": {
   "display_name": "espm_test",
   "language": "python",
   "name": "python3"
  },
  "language_info": {
   "codemirror_mode": {
    "name": "ipython",
    "version": 3
   },
   "file_extension": ".py",
   "mimetype": "text/x-python",
   "name": "python",
   "nbconvert_exporter": "python",
   "pygments_lexer": "ipython3",
   "version": "3.11.11"
  }
 },
 "nbformat": 4,
 "nbformat_minor": 2
}
